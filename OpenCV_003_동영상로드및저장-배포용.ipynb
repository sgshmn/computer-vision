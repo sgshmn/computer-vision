{
 "cells": [
  {
   "cell_type": "markdown",
   "metadata": {},
   "source": [
    "<img src=\"./lecture_image/00_title.png\">"
   ]
  },
  {
   "cell_type": "markdown",
   "metadata": {},
   "source": [
    "<table border=1 width=100%>\n",
    "    <tr><td style=\"border: 1px solid black; width:600px; height:40px; text-align: center;\"><font size=4 color=blue><b>[3차시] 학습목표</b></font></td></tr>       \n",
    "    <tr><td style=\"border: 1px solid black; text-align: left;\"><font size=3>○ 카메라나 동영상으로부터 비디오 프레임 캡처하기<br>\n",
    "○ CCTV 만들기 - 동영상 녹화하기<br>\n",
    "○ 동영상에서 한 프레임을 이미지 파일로 저장하기<br>\n",
    "○ 저장한 이미지들을 동영상으로 만들기<br>\n",
    "○ 유튜브 영상 연동하기<br>\n",
    "        </font></td></tr>   \n",
    "</table>"
   ]
  },
  {
   "cell_type": "markdown",
   "metadata": {
    "id": "gLauf9_UarFp"
   },
   "source": [
    "# 동영상을 읽고 출력하기\n",
    "\n",
    "## 카메라나 동영상으로부터 비디오 프레임 캡처하기\n",
    "\n",
    "- <font color=red>cap = cv2.VideoCapture(0)</font>\n",
    "  - 0번 카메라로부터 비디오 캡처\n",
    "  - 0 대신에 파일명을 입력하면 동영상으로부터 캡처  cv2.VideoCapture(“images/video.mp4”)\n",
    "  - IP가 부여된 웹캠인 경우 IP와 카메라 번호를 입력  cap = cv2.VideoCapture(\"rtsp:127.0.0.1/0\")\n",
    "  \n",
    "  \n",
    "- <font color=red>cap.set(3, 480)</font> : 비디오의 가로 크기 설정하기\n",
    "- <font color=red>cap.set(4, 320)</font> : 비디오의 세로 크기 설정하기\n",
    "- <font color=red>w = cap.get(3)</font> : 비디오의 가로 크기 가져오기\n",
    "- <font color=red>h = cap.get(4)</font> : 비디오의 세로 크기 가져오기\n",
    "\n",
    "\n",
    "- <font color=red>ret, frame = cap.read()</font> \n",
    "  - 카메라로부터 비디오 파일을 읽고 프레임(frame) 이미지와 읽기성공여부(ret)를 반환 (True/False)\n",
    "\n",
    "\n",
    "- <font color=red>key = cv2.waitKey(33)</font>\n",
    "  - 0.033초동안 키 입력을 대기 (30프레임인 경우)\n",
    "  - key 값은 아스키 코드로 반환\n",
    "  - 우리나라, 미국은 일반적으로 30프레임을 쓴다\n",
    "  \n",
    "  \n",
    "- <font color=red>cap.release()</font>\n",
    "  - 비디오 객체를 종료하고 메모리를 해제\n",
    "  \n",
    "\n",
    "- 아스키 코드\n",
    "<img src=\"./lecture_image/03_ascii.png\" width=70%>"
   ]
  },
  {
   "cell_type": "markdown",
   "metadata": {},
   "source": [
    "ascii = {48:0, 65:'A', 97:'a'} 이 세개는 외우자. 딕셔너리로 만든것은 순전히 재미 때문이다"
   ]
  },
  {
   "cell_type": "code",
   "execution_count": 3,
   "metadata": {
    "colab": {
     "base_uri": "https://localhost:8080/",
     "height": 55
    },
    "executionInfo": {
     "elapsed": 585,
     "status": "ok",
     "timestamp": 1601964088660,
     "user": {
      "displayName": "강성관",
      "photoUrl": "",
      "userId": "00571094306841577419"
     },
     "user_tz": -540
    },
    "id": "Gdu9-Y9LarFn",
    "outputId": "dc8915da-3df0-4d1f-d9fe-4e472c1c0911"
   },
   "outputs": [
    {
     "name": "stdout",
     "output_type": "stream",
     "text": [
      "이미지를 못 읽었거나 전체 영상을 다 재생했습니다\n"
     ]
    }
   ],
   "source": [
    "import cv2\n",
    "\n",
    "cap = cv2.VideoCapture('images/video.mp4')\n",
    "\n",
    "# 비디오를 캡쳐 했으면\n",
    "while cap.isOpened():\n",
    "    ret, frame = cap.read()\n",
    "    \n",
    "    # 프레임 이미지 : 영상에 포함된 1장의 이미지\n",
    "    if not ret:\n",
    "        print('이미지를 못 읽었거나 전체 영상을 다 재생했습니다')\n",
    "        break\n",
    "        \n",
    "    cv2.imshow('video', frame)\n",
    "    \n",
    "    key = cv2.waitKey(33)\n",
    "    \n",
    "    if key == 49: # 숫자 1\n",
    "        break\n",
    "        \n",
    "cap.release()\n",
    "cv2.destroyAllWindows()"
   ]
  },
  {
   "cell_type": "code",
   "execution_count": 4,
   "metadata": {},
   "outputs": [],
   "source": [
    "import cv2\n",
    "\n",
    "\n",
    "# cap = cv2.VideoCapture('images/video.mp4')\n",
    "\n",
    "\n",
    "# 카메라에서 영상을 얻기 0 \n",
    "cap = cv2.VideoCapture(0) \n",
    "\n",
    "\n",
    "# 비디오를 캡쳐 했으면\n",
    "while cap.isOpened():\n",
    "    ret, frame = cap.read()\n",
    "    \n",
    "    # 프레임 이미지 : 영상에 포함된 1장의 이미지\n",
    "    if not ret:\n",
    "        print('이미지를 못 읽었거나 전체 영상을 다 재생했습니다')\n",
    "        break\n",
    "        \n",
    "    cv2.imshow('video', frame)\n",
    "    \n",
    "    key = cv2.waitKey(33)\n",
    "    \n",
    "    if key == 49: # 숫자 1\n",
    "        break\n",
    "        \n",
    "cap.release()\n",
    "cv2.destroyAllWindows()\n",
    "    "
   ]
  },
  {
   "cell_type": "markdown",
   "metadata": {},
   "source": [
    "<table border=1 width=100%>\n",
    "    <tr><td style=\"border: 1px solid black; width:600px; text-align: left;\"><font size=4 color=red><b>실습문제</b></font><br><br>\n",
    "        <font size=4>○ 동영상 파일을 읽고 출력해보자.</font></td></tr>       \n",
    "    <tr><td style=\"border: 1px solid black; text-align: left;\">\n",
    "        <img src=\"./lecture_image/03_movie.png\" width=50%></td></tr>   \n",
    "</table>"
   ]
  },
  {
   "cell_type": "markdown",
   "metadata": {},
   "source": [
    "## 위젯을 이용하여 동영상 출력하기"
   ]
  },
  {
   "cell_type": "code",
   "execution_count": 5,
   "metadata": {},
   "outputs": [
    {
     "data": {
      "application/vnd.jupyter.widget-view+json": {
       "model_id": "e2d8ee0718ad4087a4e84e8a1eecfce6",
       "version_major": 2,
       "version_minor": 0
      },
      "text/plain": [
       "Image(value=b'', format='jpeg', height='480', width='480')"
      ]
     },
     "metadata": {},
     "output_type": "display_data"
    },
    {
     "data": {
      "application/vnd.jupyter.widget-view+json": {
       "model_id": "22e2807333304e7ebd0c866fe9fe892f",
       "version_major": 2,
       "version_minor": 0
      },
      "text/plain": [
       "Button(description='정지', style=ButtonStyle())"
      ]
     },
     "metadata": {},
     "output_type": "display_data"
    }
   ],
   "source": [
    "import cv2\n",
    "import ipywidgets as widgets\n",
    "from IPython.display import display\n",
    "import threading\n",
    "\n",
    "global stop\n",
    "stop = False\n",
    "\n",
    "def on_button_clicked(b):\n",
    "    # 전역변수를 쓰는 곳에도 선언을 해야한다\n",
    "    global stop\n",
    "    print('clicked?')\n",
    "    stop = True\n",
    "    \n",
    "\n",
    "image_widget = widgets.Image(format='jpeg', width=480, height=480)\n",
    "\n",
    "# 버튼 위젯\n",
    "button_widget = widgets.Button(description='정지') # 잘 안 된다. 나중에 할 때는 정지 버튼 빼고 하자\n",
    "\n",
    "# 클릭 이벤트를 추가하고 처리 함수를 호출한다\n",
    "button_widget.on_click(on_button_clicked)\n",
    "\n",
    "\n",
    "display(image_widget, button_widget)\n",
    "\n",
    "\n",
    "# cap = cv2.VideoCapture('images/video.mp4')\n",
    "\n",
    "# 카메라에서 영상을 얻기 0 \n",
    "cap = cv2.VideoCapture(0) \n",
    "\n",
    "def function():\n",
    "    # 비디오를 캡쳐 했으면\n",
    "    while not stop:\n",
    "        ret, frame = cap.read()\n",
    "\n",
    "        # 프레임 이미지 : 영상에 포함된 1장의 이미지\n",
    "        if not ret:\n",
    "            print('이미지를 못 읽었거나 전체 영상을 다 재생했습니다')\n",
    "            break\n",
    "\n",
    "        en_state, en_image = cv2.imencode('.jpeg', frame)\n",
    "\n",
    "#         if stop:\n",
    "#             print('영상 종료')\n",
    "#             break\n",
    "\n",
    "        try:\n",
    "            key = cv2.waitKey(33)\n",
    "\n",
    "            image_widget.value = en_image.tobytes()\n",
    "        except:\n",
    "            break\n",
    "\n",
    "        if key == 49: # 숫자 1\n",
    "            break\n",
    "    cap.release()\n",
    "\n",
    "        \n",
    "# # 비디오를 캡쳐 했으면\n",
    "# while cap.isOpened():\n",
    "#     ret, frame = cap.read()\n",
    "\n",
    "#     # 프레임 이미지 : 영상에 포함된 1장의 이미지\n",
    "#     if not ret:\n",
    "#         print('이미지를 못 읽었거나 전체 영상을 다 재생했습니다')\n",
    "#         break\n",
    "\n",
    "#     en_state, en_image = cv2.imencode('.jpeg', frame)\n",
    "\n",
    "#     if stop:\n",
    "#         print('영상 종료')\n",
    "#         break\n",
    "\n",
    "#     try:\n",
    "#         key = cv2.waitKey(33)\n",
    "\n",
    "#         image_widget.value = en_image.tobytes()\n",
    "#     except:\n",
    "#         break\n",
    "\n",
    "#     if key == 49: # 숫자 1\n",
    "#         break\n",
    "#     cap.release()        \n",
    "        \n",
    "    \n",
    "# function 함수를 스레드로 만들고 시작\n",
    "threading.Thread(target=function).start()\n",
    "    \n",
    "# cv2.destroyAllWindows()\n",
    "    "
   ]
  },
  {
   "cell_type": "markdown",
   "metadata": {
    "id": "c_T9xGKy7YGH"
   },
   "source": [
    "## CCTV 만들기 - 동영상 녹화하기\n",
    "\n",
    "- <font color=red>codec = cv2.VideoWriter_fourcc('D', 'I', 'V', 'X')</font> : 비디오 타입을 DIVX로 설정\n",
    "\n",
    "<img src=\"./lecture_image/03_codec.png\" width=70%>\n",
    "\n",
    "\n",
    "- <font color=red>out = cv2.VideoWriter('cctv01.avi', codec, fps, (w, h))</font>  \n",
    "  - cctv01.avi 파일에 설정한 코덱, 프레임, 크기로 저장하도록 설정\n",
    "  \n",
    "  \n",
    "- <font color=red>out.write(frame)</font>  : 이미지 프레임을 파일에 쓰기\n",
    "\n",
    "\n",
    "- <font color=red>out.release() </font> : 파일 객체 해제하기"
   ]
  },
  {
   "cell_type": "code",
   "execution_count": 18,
   "metadata": {
    "id": "VuXcAroNarFq",
    "outputId": "21191986-ee04-4143-f089-45f3d8196e21",
    "scrolled": false
   },
   "outputs": [
    {
     "name": "stdout",
     "output_type": "stream",
     "text": [
      "녹화 시작\n",
      "rec rec rec rec rec rec rec rec rec rec rec rec rec rec rec rec rec rec rec rec rec rec rec rec rec rec rec rec rec rec rec rec rec rec rec rec rec rec rec rec rec rec rec rec rec rec rec rec rec rec rec rec rec rec rec rec rec rec rec rec rec rec rec rec rec rec rec rec rec rec rec rec rec rec rec rec rec rec rec rec rec rec rec rec rec rec rec rec rec rec rec rec rec 녹화 종료\n"
     ]
    }
   ],
   "source": [
    "import cv2\n",
    "\n",
    "cap = cv2.VideoCapture(0)\n",
    "\n",
    "# 녹화 설정\n",
    "fps = 30.0 # 초당 프레임 수 frame per second\n",
    "w = int(cap.get(3))\n",
    "h = int(cap.get(4))\n",
    "\n",
    "# 코덱 설정\n",
    "codec = cv2.VideoWriter_fourcc(*'DIVX') # 가변 매개변수 ? 문자를 하나하나 받기?\n",
    "\n",
    "# 녹화 파일 설정\n",
    "out = cv2.VideoWriter('images/cctv01.avi', codec, fps, (w, h))\n",
    "\n",
    "# 녹화 여부 설정\n",
    "record = False\n",
    "\n",
    "\n",
    "# 비디오를 캡쳐 했으면\n",
    "while cap.isOpened():\n",
    "    ret, frame = cap.read()\n",
    "    \n",
    "    # 프레임 이미지 : 영상에 포함된 1장의 이미지\n",
    "    if not ret:\n",
    "        print('이미지를 못 읽었거나 전체 영상을 다 재생했습니다')\n",
    "        break\n",
    "        \n",
    "    cv2.imshow('video', frame)\n",
    "    \n",
    "    key = cv2.waitKey(33)\n",
    "    \n",
    "    if key == 49: # 숫자 1\n",
    "        print('녹화 종료')\n",
    "        break\n",
    "        \n",
    "    elif key == 50:\n",
    "        print('녹화 시작')\n",
    "        record = True\n",
    "        \n",
    "    # 녹화 시작\n",
    "    if record:\n",
    "        print('rec', end=\" \")\n",
    "        out.write(frame)\n",
    "        \n",
    "cap.release()\n",
    "out.release()\n",
    "cv2.destroyAllWindows()\n"
   ]
  },
  {
   "cell_type": "markdown",
   "metadata": {
    "id": "ARYE0iZR7YGL"
   },
   "source": [
    "# 동영상에서 한 프레임을 이미지 파일로 저장하기\n",
    "\n",
    "- <font color=red>cv2.imwrite(“파일명.확장자”, 프레임이미지, 옵션)</font>\n",
    "  - params=[cv2.IMWRITE_PNG_COMPRESSION, 0]) : 압축 하지 않는 PNG, 세 번째 파라미터는 압축률로 0~9까지 설정 가능 (0은 압축 없음)"
   ]
  },
  {
   "cell_type": "code",
   "execution_count": 4,
   "metadata": {
    "id": "mm27wOurarFs",
    "outputId": "23d68150-df97-4770-e818-42974043234c"
   },
   "outputs": [
    {
     "name": "stdout",
     "output_type": "stream",
     "text": [
      "images/pic_01.png 파일을 저장\n",
      "images/pic_02.png 파일을 저장\n",
      "images/pic_03.png 파일을 저장\n",
      "images/pic_04.png 파일을 저장\n",
      "images/pic_05.png 파일을 저장\n",
      "images/pic_06.png 파일을 저장\n",
      "images/pic_07.png 파일을 저장\n",
      "images/pic_08.png 파일을 저장\n",
      "images/pic_09.png 파일을 저장\n",
      "images/pic_10.png 파일을 저장\n",
      "images/pic_11.png 파일을 저장\n",
      "images/pic_12.png 파일을 저장\n",
      "images/pic_13.png 파일을 저장\n",
      "images/pic_14.png 파일을 저장\n",
      "images/pic_15.png 파일을 저장\n",
      "images/pic_16.png 파일을 저장\n",
      "images/pic_17.png 파일을 저장\n",
      "images/pic_18.png 파일을 저장\n",
      "images/pic_19.png 파일을 저장\n",
      "images/pic_20.png 파일을 저장\n",
      "images/pic_21.png 파일을 저장\n",
      "images/pic_22.png 파일을 저장\n",
      "images/pic_23.png 파일을 저장\n",
      "images/pic_24.png 파일을 저장\n",
      "images/pic_25.png 파일을 저장\n",
      "images/pic_26.png 파일을 저장\n",
      "images/pic_27.png 파일을 저장\n",
      "images/pic_28.png 파일을 저장\n",
      "images/pic_29.png 파일을 저장\n"
     ]
    }
   ],
   "source": [
    "## import cv2\n",
    "\n",
    "cap = cv2.VideoCapture(0)\n",
    "\n",
    "# 파일명을 구분하려고 만든 변수\n",
    "co = 0\n",
    "\n",
    "\n",
    "# 비디오를 캡쳐 했으면\n",
    "while cap.isOpened():\n",
    "    ret, frame = cap.read()\n",
    "    \n",
    "    # 프레임 이미지 : 영상에 포함된 1장의 이미지\n",
    "    if not ret:\n",
    "        print('이미지를 못 읽었거나 전체 영상을 다 재생했습니다')\n",
    "        break\n",
    "        \n",
    "    cv2.imshow('video', frame)\n",
    "    \n",
    "    key = cv2.waitKey(33)\n",
    "    \n",
    "    if key == 49: # 숫자 1\n",
    "        break\n",
    "    elif key == 50:\n",
    "        co += 1\n",
    "        print(f'images/pic_{co:0>2}.png 파일을 저장')\n",
    "        cv2.imwrite('images/pic_{:0>2}.png'.format(co), frame, params=[cv2.IMWRITE_PNG_COMPRESSION, 0])\n",
    "cap.release()\n",
    "cv2.destroyAllWindows()"
   ]
  },
  {
   "cell_type": "markdown",
   "metadata": {
    "id": "Q2YlE60vAEtW"
   },
   "source": [
    "## 저장한 이미지들을 동영상으로 만들기"
   ]
  },
  {
   "cell_type": "code",
   "execution_count": 5,
   "metadata": {
    "id": "FUw1ewhLAEX_",
    "scrolled": true
   },
   "outputs": [],
   "source": [
    "import cv2\n",
    "\n",
    "fps = 6.0\n",
    "w = 640\n",
    "h = 480\n",
    "\n",
    "codec = cv2.VideoWriter_fourcc(*'DIVX')\n",
    "\n",
    "out = cv2.VideoWriter('images/pic.avi', codec, fps, (w, h))\n",
    "\n",
    "for i in range(1, 30):\n",
    "    img = cv2.imread(f'images/pic_{i:0>2}.png', cv2.IMREAD_COLOR)\n",
    "    \n",
    "    out.write(img)\n",
    "    cv2.waitKey(int(1000/fps))\n",
    "    \n",
    "out.release()"
   ]
  },
  {
   "cell_type": "markdown",
   "metadata": {},
   "source": [
    "# 유튜브 영상 연동하기\n",
    "\n",
    "## pafy로 유튜브 영상 연동하기\n",
    "\n",
    "- pafy : youtube의 메타 데이터를 수집/검색하거나 다운로드 할 수 있는 Python 라이브러리\n",
    "- yt-dlp : 현재 업데이트가 되지 않는 youtube-dl을 업그레이드한 버전, 유튜브로부터 영상을 다운로드 (영상만 다운로드 – 음성 제외)"
   ]
  },
  {
   "cell_type": "code",
   "execution_count": 9,
   "metadata": {},
   "outputs": [
    {
     "name": "stdout",
     "output_type": "stream",
     "text": [
      "Requirement already satisfied: pafy in c:\\anaconda3\\envs\\opencv2\\lib\\site-packages (0.5.5)\n"
     ]
    },
    {
     "name": "stderr",
     "output_type": "stream",
     "text": [
      "WARNING: Ignoring invalid distribution -pencv-python (c:\\anaconda3\\envs\\opencv2\\lib\\site-packages)\n",
      "WARNING: Ignoring invalid distribution -pencv-python (c:\\anaconda3\\envs\\opencv2\\lib\\site-packages)\n",
      "WARNING: Ignoring invalid distribution -pencv-python (c:\\anaconda3\\envs\\opencv2\\lib\\site-packages)\n",
      "WARNING: Ignoring invalid distribution -pencv-python (c:\\anaconda3\\envs\\opencv2\\lib\\site-packages)\n",
      "WARNING: Ignoring invalid distribution -pencv-python (c:\\anaconda3\\envs\\opencv2\\lib\\site-packages)\n",
      "WARNING: Ignoring invalid distribution -pencv-python (c:\\anaconda3\\envs\\opencv2\\lib\\site-packages)\n"
     ]
    },
    {
     "name": "stdout",
     "output_type": "stream",
     "text": [
      "Collecting youtube-dl\n",
      "  Downloading youtube_dl-2021.12.17-py2.py3-none-any.whl (1.9 MB)\n",
      "     ---------------------------------------- 1.9/1.9 MB 3.1 MB/s eta 0:00:00\n",
      "Installing collected packages: youtube-dl\n",
      "Successfully installed youtube-dl-2021.12.17\n"
     ]
    },
    {
     "name": "stderr",
     "output_type": "stream",
     "text": [
      "WARNING: Ignoring invalid distribution -pencv-python (c:\\anaconda3\\envs\\opencv2\\lib\\site-packages)\n",
      "WARNING: Ignoring invalid distribution -pencv-python (c:\\anaconda3\\envs\\opencv2\\lib\\site-packages)\n",
      "WARNING: Ignoring invalid distribution -pencv-python (c:\\anaconda3\\envs\\opencv2\\lib\\site-packages)\n",
      "WARNING: Ignoring invalid distribution -pencv-python (c:\\anaconda3\\envs\\opencv2\\lib\\site-packages)\n",
      "WARNING: Ignoring invalid distribution -pencv-python (c:\\anaconda3\\envs\\opencv2\\lib\\site-packages)\n",
      "WARNING: Ignoring invalid distribution -pencv-python (c:\\anaconda3\\envs\\opencv2\\lib\\site-packages)\n",
      "WARNING: Ignoring invalid distribution -pencv-python (c:\\anaconda3\\envs\\opencv2\\lib\\site-packages)\n"
     ]
    },
    {
     "name": "stdout",
     "output_type": "stream",
     "text": [
      "Requirement already satisfied: yt-dlp in c:\\anaconda3\\envs\\opencv2\\lib\\site-packages (2022.9.1)\n",
      "Requirement already satisfied: websockets in c:\\anaconda3\\envs\\opencv2\\lib\\site-packages (from yt-dlp) (10.3)\n",
      "Requirement already satisfied: brotli in c:\\anaconda3\\envs\\opencv2\\lib\\site-packages (from yt-dlp) (1.0.9)\n",
      "Requirement already satisfied: certifi in c:\\anaconda3\\envs\\opencv2\\lib\\site-packages (from yt-dlp) (2022.9.14)\n",
      "Requirement already satisfied: mutagen in c:\\anaconda3\\envs\\opencv2\\lib\\site-packages (from yt-dlp) (1.45.1)\n",
      "Requirement already satisfied: pycryptodomex in c:\\anaconda3\\envs\\opencv2\\lib\\site-packages (from yt-dlp) (3.15.0)\n"
     ]
    },
    {
     "name": "stderr",
     "output_type": "stream",
     "text": [
      "WARNING: Ignoring invalid distribution -pencv-python (c:\\anaconda3\\envs\\opencv2\\lib\\site-packages)\n",
      "WARNING: Ignoring invalid distribution -pencv-python (c:\\anaconda3\\envs\\opencv2\\lib\\site-packages)\n",
      "WARNING: Ignoring invalid distribution -pencv-python (c:\\anaconda3\\envs\\opencv2\\lib\\site-packages)\n",
      "WARNING: Ignoring invalid distribution -pencv-python (c:\\anaconda3\\envs\\opencv2\\lib\\site-packages)\n",
      "WARNING: Ignoring invalid distribution -pencv-python (c:\\anaconda3\\envs\\opencv2\\lib\\site-packages)\n",
      "WARNING: Ignoring invalid distribution -pencv-python (c:\\anaconda3\\envs\\opencv2\\lib\\site-packages)\n"
     ]
    }
   ],
   "source": [
    "# Youtube의 메타 데이터를 수집/검색하거나 다운로드 할 수 있는 Python 라이브러리\n",
    "!pip install pafy\n",
    "# 유튜브로부터 영상만을 다운로드 \n",
    "!pip install youtube-dl\n",
    "# 유튜브로부터 영상만을 다운로드 (youtube-dl 라이브러리 업그레이드 버전)\n",
    "!pip install yt-dlp"
   ]
  },
  {
   "cell_type": "markdown",
   "metadata": {},
   "source": [
    "- <font color=red>video = pafy.new(\"유튜브 주소\")</font> : YouTube 주소로 영상 정보 가져오기\n",
    "\n",
    "- <font color=red>best = video.getbest(preftype=\"mp4\")</font> : YouTube 실제 주소 가져오기"
   ]
  },
  {
   "cell_type": "code",
   "execution_count": 1,
   "metadata": {},
   "outputs": [
    {
     "name": "stdout",
     "output_type": "stream",
     "text": [
      "제목 : 세계가 깜짝놀란 광주인공지능사관학교\n",
      "평점 : None\n",
      "조회수 : 332\n",
      "좋아요 수 : 12\n",
      "싫어요 수: 0\n",
      "영상길이 : 70\n",
      "영상길이 : 1280x720\n"
     ]
    }
   ],
   "source": [
    "import cv2\n",
    "import pafy\n",
    "\n",
    "# 영상 정보 가져오기\n",
    "video = pafy.new(\"https://www.youtube.com/watch?v=l5etW13PzII\")\n",
    "\n",
    "# 영상 정보 출력\n",
    "print(f'제목 : {video.title}')\n",
    "print(f'평점 : {video.rating}')\n",
    "print(f'조회수 : {video.viewcount}')\n",
    "print(f'좋아요 수 : {video.likes}')\n",
    "print(f'싫어요 수: {video.dislikes}')\n",
    "print(f'영상길이 : {video.length}')\n",
    "\n",
    "# 최고품질의 영상을 가져온다 mp4?\n",
    "best = video.getbest(preftype='mp4')\n",
    "\n",
    "# 영상의 크기\n",
    "print(f'영상길이 : {best.resolution}')"
   ]
  },
  {
   "cell_type": "markdown",
   "metadata": {},
   "source": [
    "- 코드 수행시에 KeyError: 'dislike_count'가 뜨는 경우\n",
    "  - pafy 설치폴더 (anaconda3설치폴더\\envs\\OpenCV\\Lib\\site-packages\\pafy)로 이동해서 backend_youtube_dl.py 파일을 열어서 53, 54라인을\n",
    "    - self._likes = self._ydl_info['like_count']\n",
    "    - self._dislikes = self._ydl_info['dislike_count']\n",
    "  - 다음 코드로 변경    \n",
    "    - self._likes = self._ydl_info.get('like_count',0)\n",
    "    - self._dislikes = self._ydl_info.get('dislike_count',0)\n",
    "    \n",
    "  - 주피터노트북을 닫고 재실행  "
   ]
  },
  {
   "cell_type": "code",
   "execution_count": 3,
   "metadata": {},
   "outputs": [],
   "source": [
    "# import cv2\n",
    "\n",
    "cap = cv2.VideoCapture(best.url)\n",
    "\n",
    "# 비디오를 캡쳐 했으면\n",
    "while cap.isOpened():\n",
    "    ret, frame = cap.read()\n",
    "    \n",
    "    # 프레임 이미지 : 영상에 포함된 1장의 이미지\n",
    "    if not ret:\n",
    "        print('이미지를 못 읽었거나 전체 영상을 다 재생했습니다')\n",
    "        break\n",
    "        \n",
    "    cv2.imshow('video', frame)\n",
    "    \n",
    "    key = cv2.waitKey(33)\n",
    "    \n",
    "    if key == 49: # 숫자 1\n",
    "        break\n",
    "        \n",
    "cap.release()\n",
    "cv2.destroyAllWindows()"
   ]
  },
  {
   "cell_type": "markdown",
   "metadata": {},
   "source": [
    "## yt-dlp로 유튜브 영상 다운로드하기"
   ]
  },
  {
   "cell_type": "code",
   "execution_count": 5,
   "metadata": {
    "scrolled": true
   },
   "outputs": [
    {
     "name": "stdout",
     "output_type": "stream",
     "text": [
      "[youtube] l5etW13PzII: Downloading webpage\n",
      "[youtube] l5etW13PzII: Downloading android player API JSON\n",
      "[youtube] l5etW13PzII: Downloading MPD manifest\n",
      "[youtube] l5etW13PzII: Downloading MPD manifest\n",
      "[info] l5etW13PzII: Downloading 1 format(s): 248\n",
      "[dashsegments] Total fragments: 14\n",
      "[download] Destination: youtube\\세계가 깜짝놀란 광주인공지능사관학교.webm\n",
      "[download] 100% of 6.46MiB in 00:32 at 204.98KiB/s                      \n",
      "다운로드 완료\n"
     ]
    }
   ],
   "source": [
    "# 영상만\n",
    "import yt_dlp\n",
    "import os\n",
    "\n",
    "# 내려받을 영상 리스트\n",
    "download_list = [\n",
    "    'https://www.youtube.com/watch?v=l5etW13PzII'\n",
    "]\n",
    "\n",
    "# 저장 폴더\n",
    "save_dir = 'youtube/'\n",
    "\n",
    "\n",
    "# 해당 폴더가 없다면\n",
    "if not os.path.exists(save_dir):\n",
    "    # 폴더 생성\n",
    "    os.mkdir(save_dir)\n",
    "    \n",
    "# 다운로드 옵션\n",
    "yt_opts = {\n",
    "    # %(title)s.%(ext)s 제목을 파일 이름으로, 기존 확장자를 확장자로 쓴다는 뜻\n",
    "    'outtmpl': 'youtube/%(title)s.%(ext)s',\n",
    "    # 가장 좋은 품질의 영상을 다운로드\n",
    "    'format': 'bestvideo/best'\n",
    "}\n",
    "\n",
    "with yt_dlp.YoutubeDL(yt_opts) as yt:\n",
    "    yt.download(download_list)\n",
    "    \n",
    "print('다운로드 완료')"
   ]
  },
  {
   "cell_type": "markdown",
   "metadata": {},
   "source": [
    "## pytube로 유튜브 영상 다운로드\n",
    "  \n",
    "  - 영상과 음성을 모두 다운로드"
   ]
  },
  {
   "cell_type": "code",
   "execution_count": 1,
   "metadata": {},
   "outputs": [
    {
     "name": "stdout",
     "output_type": "stream",
     "text": [
      "Requirement already satisfied: pytube in c:\\anaconda3\\envs\\opencv2\\lib\\site-packages (12.1.0)\n"
     ]
    },
    {
     "name": "stderr",
     "output_type": "stream",
     "text": [
      "WARNING: Ignoring invalid distribution -pencv-python (c:\\anaconda3\\envs\\opencv2\\lib\\site-packages)\n",
      "WARNING: Ignoring invalid distribution -pencv-python (c:\\anaconda3\\envs\\opencv2\\lib\\site-packages)\n",
      "WARNING: Ignoring invalid distribution -pencv-python (c:\\anaconda3\\envs\\opencv2\\lib\\site-packages)\n",
      "WARNING: Ignoring invalid distribution -pencv-python (c:\\anaconda3\\envs\\opencv2\\lib\\site-packages)\n",
      "WARNING: Ignoring invalid distribution -pencv-python (c:\\anaconda3\\envs\\opencv2\\lib\\site-packages)\n",
      "WARNING: Ignoring invalid distribution -pencv-python (c:\\anaconda3\\envs\\opencv2\\lib\\site-packages)\n"
     ]
    }
   ],
   "source": [
    "# 아나콘다 프롬프트 창에서 실행\n",
    "# !pip install --upgrade \"git+https://github.com/nficano/pytube.git\"\n",
    "!pip install pytube"
   ]
  },
  {
   "cell_type": "code",
   "execution_count": 3,
   "metadata": {},
   "outputs": [
    {
     "name": "stdout",
     "output_type": "stream",
     "text": [
      "제목 : 세계가 깜짝놀란 광주인공지능사관학교\n",
      "조회수 : 332\n"
     ]
    },
    {
     "data": {
      "text/plain": [
       "'C:\\\\Users\\\\gjaischool-56\\\\opencv\\\\youtube/세계가 깜짝놀란 광주인공지능사관학교.mp4'"
      ]
     },
     "execution_count": 3,
     "metadata": {},
     "output_type": "execute_result"
    }
   ],
   "source": [
    "import os\n",
    "import pytube\n",
    "from pytube.cli import on_progress\n",
    "\n",
    "save_dir = 'youtube/'\n",
    "\n",
    "# 영상정보 가져오기\n",
    "url = 'https://www.youtube.com/watch?v=l5etW13PzII'\n",
    "yt = pytube.YouTube(url)\n",
    "\n",
    "print(f'제목 : {yt.title}')\n",
    "print(f'조회수 : {yt.views}')\n",
    "\n",
    "# 다운로드\n",
    "# progressive=True : 점진적으로 다운로드\n",
    "# file_extension='mp4' : 확장자(파일 타입)\n",
    "# .order_by('resoultion') : 해상도 순으로 정렬\n",
    "# .desc() : 내림차순정렬\n",
    "# .first() : 해상도가 가장 높은 영상\n",
    "# download(save_dir) : 해당 폴더로 다운로드\n",
    "yt.streams.filter(progressive=True, file_extension='mp4')\\\n",
    "                 .order_by('resolution')\\\n",
    "                 .desc().first().download(save_dir)"
   ]
  },
  {
   "cell_type": "markdown",
   "metadata": {},
   "source": [
    "<table border=1 width=100%>\n",
    "    <tr><td style=\"border: 1px solid black; width:600px; text-align: left;\"><font size=4 color=red><b>실습문제</b></font><br><br>\n",
    "        <font size=4>○ 다른 유튜브 영상을 읽고 출력해보자.</font></td></tr>       \n",
    "    <tr><td style=\"border: 1px solid black; text-align: left;\">\n",
    "        <img src=\"./lecture_image/03_youtube.png\" width=50%></td></tr>   \n",
    "</table>"
   ]
  },
  {
   "cell_type": "markdown",
   "metadata": {},
   "source": [
    "<table border=1 width=100%>\n",
    "    <tr><td style=\"border: 1px solid black; width:600px; text-align: left;\"><font size=4 color=red><b>실습문제</b></font><br><br>\n",
    "        <font size=4>○ 다른 유튜브 영상을 저장해보자.</font></td></tr>   \n",
    "</table>"
   ]
  },
  {
   "cell_type": "markdown",
   "metadata": {},
   "source": [
    "<table border=1 width=100%>\n",
    "    <tr><td style=\"border: 1px solid black; width:600px; height:40px; text-align: center;\"><font size=4 color=blue><b>[3차시] 학습요약</b></font></td></tr>       \n",
    "    <tr><td style=\"border: 1px solid black; text-align: left;\"><font size=3>\n",
    "        \n",
    "○ <font color=red>cv2.VideoCapture()</font> : 비디오 캡처 (카메라, 동영상, 유튜브 등)<br>\n",
    "○ <font color=red>ret, frame = cap.read()</font> : 비디오로부터 프레임 이미지를 읽어서 반환<br>\n",
    "○ <font color=red>cv2.VideoWriter_fourcc ()</font> : 녹화 파일을 설정하는 함수<br>\n",
    "○ <font color=red>out.write()</font> : 영상을 저장<br>\n",
    "○ <font color=red>cv2.imwrite()</font> : 이미지를 저장<br>\n",
    "\n",
    "        \n",
    "○ 일반적인 동영상은 1초에 30장의 프레임이미지로 구성<br>\n",
    "○ pafy : 유투브 메타 데이터를 가져오는 라이브러리<br>\n",
    "○ yt-dlp : 유투브 영상을 다운로드하는 라이브러리 (음성 제외)<br>\n",
    "○ pytube : 유투브 영상을 다운로드하는 라이브러리 (음성 포함)\n",
    "         \n",
    "        \n",
    "</font></td></tr>   \n",
    "</table>"
   ]
  }
 ],
 "metadata": {
  "colab": {
   "name": "DL008_01_OpenCV.ipynb",
   "provenance": []
  },
  "hide_input": false,
  "kernelspec": {
   "display_name": "Python 3 (ipykernel)",
   "language": "python",
   "name": "python3"
  },
  "language_info": {
   "codemirror_mode": {
    "name": "ipython",
    "version": 3
   },
   "file_extension": ".py",
   "mimetype": "text/x-python",
   "name": "python",
   "nbconvert_exporter": "python",
   "pygments_lexer": "ipython3",
   "version": "3.7.13"
  },
  "toc": {
   "base_numbering": 1,
   "nav_menu": {},
   "number_sections": true,
   "sideBar": true,
   "skip_h1_title": false,
   "title_cell": "Table of Contents",
   "title_sidebar": "Contents",
   "toc_cell": false,
   "toc_position": {
    "height": "calc(100% - 180px)",
    "left": "10px",
    "top": "150px",
    "width": "165px"
   },
   "toc_section_display": true,
   "toc_window_display": true
  }
 },
 "nbformat": 4,
 "nbformat_minor": 1
}
